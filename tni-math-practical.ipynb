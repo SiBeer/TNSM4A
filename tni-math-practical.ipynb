{
 "cells": [
  {
   "cell_type": "code",
   "execution_count": 1,
   "metadata": {
    "_cell_guid": "b1076dfc-b9ad-4769-8c92-a6c4dae69d19",
    "_uuid": "8f2839f25d086af736a60e9eeb907d3b93b6e0e5",
    "execution": {
     "iopub.execute_input": "2021-01-28T12:08:54.808715Z",
     "iopub.status.busy": "2021-01-28T12:08:54.808082Z",
     "iopub.status.idle": "2021-01-28T12:08:54.810969Z",
     "shell.execute_reply": "2021-01-28T12:08:54.811479Z"
    },
    "papermill": {
     "duration": 0.012256,
     "end_time": "2021-01-28T12:08:54.811723",
     "exception": false,
     "start_time": "2021-01-28T12:08:54.799467",
     "status": "completed"
    },
    "tags": []
   },
   "outputs": [],
   "source": [
    "import numpy as np # linear algebra\n"
   ]
  },
  {
   "cell_type": "code",
   "execution_count": 2,
   "metadata": {
    "execution": {
     "iopub.execute_input": "2021-01-28T12:08:54.820766Z",
     "iopub.status.busy": "2021-01-28T12:08:54.820193Z",
     "iopub.status.idle": "2021-01-28T12:08:54.823759Z",
     "shell.execute_reply": "2021-01-28T12:08:54.823205Z"
    },
    "papermill": {
     "duration": 0.009322,
     "end_time": "2021-01-28T12:08:54.823872",
     "exception": false,
     "start_time": "2021-01-28T12:08:54.814550",
     "status": "completed"
    },
    "tags": []
   },
   "outputs": [
    {
     "name": "stdout",
     "output_type": "stream",
     "text": [
      "Hello world\n"
     ]
    }
   ],
   "source": [
    "print('Hello world')"
   ]
  }
 ],
 "metadata": {
  "kernelspec": {
   "display_name": "Python 3",
   "language": "python",
   "name": "python3"
  },
  "language_info": {
   "codemirror_mode": {
    "name": "ipython",
    "version": 3
   },
   "file_extension": ".py",
   "mimetype": "text/x-python",
   "name": "python",
   "nbconvert_exporter": "python",
   "pygments_lexer": "ipython3",
   "version": "3.7.9"
  },
  "papermill": {
   "default_parameters": {},
   "duration": 6.157539,
   "end_time": "2021-01-28T12:08:55.334737",
   "environment_variables": {},
   "exception": null,
   "input_path": "__notebook__.ipynb",
   "output_path": "__notebook__.ipynb",
   "parameters": {},
   "start_time": "2021-01-28T12:08:49.177198",
   "version": "2.2.2"
  }
 },
 "nbformat": 4,
 "nbformat_minor": 4
}
